{
 "cells": [
  {
   "cell_type": "markdown",
   "metadata": {},
   "source": [
    "# **TD 08: Interface Graphique**"
   ]
  },
  {
   "cell_type": "markdown",
   "metadata": {},
   "source": [
    "## **Partie 01: Démarrage**"
   ]
  },
  {
   "cell_type": "code",
   "execution_count": 1,
   "metadata": {},
   "outputs": [],
   "source": [
    "import pandas as pd\n",
    "from Modules.corpus import Corpus\n",
    "from Modules.document import Document\n",
    "from Modules.searchEngine import SearchEngine"
   ]
  },
  {
   "cell_type": "code",
   "execution_count": 2,
   "metadata": {},
   "outputs": [
    {
     "name": "stdout",
     "output_type": "stream",
     "text": [
      "Index(['speaker', 'text', 'date', 'descr', 'link'], dtype='object')\n",
      "speaker\n",
      "CLINTON    93\n",
      "TRUMP      71\n",
      "Name: count, dtype: int64\n"
     ]
    }
   ],
   "source": [
    "df = pd.read_csv(\"discours_US.csv\", sep='\\t', quotechar='\"')\n",
    "print(df.columns)\n",
    "\n",
    "#Vérification de la distirbution des auteurs des discours\n",
    "print(df['speaker'].value_counts())"
   ]
  },
  {
   "cell_type": "code",
   "execution_count": 3,
   "metadata": {},
   "outputs": [],
   "source": [
    "#Création d'une instance de la classe Corpus \n",
    "discours=Corpus(\"Discours\")"
   ]
  },
  {
   "cell_type": "code",
   "execution_count": 4,
   "metadata": {},
   "outputs": [
    {
     "name": "stdout",
     "output_type": "stream",
     "text": [
      "(33268, 5)\n"
     ]
    }
   ],
   "source": [
    "#Découpage des discours en phrases et ajout des phrases au corpus\n",
    "df_phrases=pd.DataFrame(columns=['speaker','text','date','descr','link'])\n",
    "#Pour chaque discours dans notre df\n",
    "for i in range(len(df)):\n",
    "    #On découpe le discours en phrases\n",
    "    phrases=df['text'][i].split('.')\n",
    "    #Pour chaque phrase dans les phrases découpées\n",
    "    for phrase in phrases:\n",
    "        #On ajoute la phrase à notre nouvelle df\n",
    "        temp_df = pd.DataFrame([{\n",
    "            'speaker': df['speaker'][i],\n",
    "            'text': phrase.strip(),  # Utilisation de strip() pour enlever les espaces en début et fin de phrase\n",
    "            'date': df['date'][i],\n",
    "            'descr': df['descr'][i],\n",
    "            'link': df['link'][i]\n",
    "        }])\n",
    "        # On ajoute la phrase à notre nouvelle df en utilisant pd.concat\n",
    "        df_phrases = pd.concat([df_phrases, temp_df], ignore_index=True)\n",
    "\n",
    "print(df_phrases.shape)"
   ]
  },
  {
   "cell_type": "code",
   "execution_count": 5,
   "metadata": {},
   "outputs": [
    {
     "name": "stdout",
     "output_type": "stream",
     "text": [
      "33268\n"
     ]
    }
   ],
   "source": [
    "Phrases = []\n",
    "for i in range(len(df_phrases)):\n",
    "    #On crée un document à partir de chaque ligne de notre df_phrases\n",
    "    doc = Document(df_phrases['descr'][i], df_phrases['speaker'][i], df_phrases['date'][i], df_phrases['link'][i], df_phrases['text'][i])\n",
    "    #On ajoute le document à notre collection de documents\n",
    "    Phrases.append(doc)\n",
    "\n",
    "print(len(Phrases))"
   ]
  },
  {
   "cell_type": "code",
   "execution_count": 6,
   "metadata": {},
   "outputs": [
    {
     "name": "stdout",
     "output_type": "stream",
     "text": [
      "Nom du corpus : Discours\n",
      "Nombre d'auteurs : 0\n",
      "Nombre de documents : 0\n"
     ]
    }
   ],
   "source": [
    "print(discours)"
   ]
  },
  {
   "cell_type": "code",
   "execution_count": 7,
   "metadata": {},
   "outputs": [],
   "source": [
    "# Construction du corpus \n",
    "for doc in Phrases:\n",
    "    discours.add(doc)"
   ]
  },
  {
   "cell_type": "code",
   "execution_count": 8,
   "metadata": {},
   "outputs": [
    {
     "data": {
      "text/plain": [
       "True"
      ]
     },
     "execution_count": 8,
     "metadata": {},
     "output_type": "execute_result"
    }
   ],
   "source": [
    "discours.search(\"war\")"
   ]
  },
  {
   "cell_type": "code",
   "execution_count": 9,
   "metadata": {},
   "outputs": [
    {
     "data": {
      "text/html": [
       "<div>\n",
       "<style scoped>\n",
       "    .dataframe tbody tr th:only-of-type {\n",
       "        vertical-align: middle;\n",
       "    }\n",
       "\n",
       "    .dataframe tbody tr th {\n",
       "        vertical-align: top;\n",
       "    }\n",
       "\n",
       "    .dataframe thead th {\n",
       "        text-align: right;\n",
       "    }\n",
       "</style>\n",
       "<table border=\"1\" class=\"dataframe\">\n",
       "  <thead>\n",
       "    <tr style=\"text-align: right;\">\n",
       "      <th></th>\n",
       "      <th>Contexte gauche</th>\n",
       "      <th>Expression trouvée</th>\n",
       "      <th>Contexte droit</th>\n",
       "    </tr>\n",
       "  </thead>\n",
       "  <tbody>\n",
       "    <tr>\n",
       "      <th>0</th>\n",
       "      <td>ever make</td>\n",
       "      <td>America great</td>\n",
       "      <td>again The</td>\n",
       "    </tr>\n",
       "    <tr>\n",
       "      <th>1</th>\n",
       "      <td>will make</td>\n",
       "      <td>America great</td>\n",
       "      <td>again Tha</td>\n",
       "    </tr>\n",
       "    <tr>\n",
       "      <th>2</th>\n",
       "      <td>ways made</td>\n",
       "      <td>America great</td>\n",
       "      <td>And I bel</td>\n",
       "    </tr>\n",
       "    <tr>\n",
       "      <th>3</th>\n",
       "      <td>d to make</td>\n",
       "      <td>America great</td>\n",
       "      <td>again I w</td>\n",
       "    </tr>\n",
       "    <tr>\n",
       "      <th>4</th>\n",
       "      <td>g to make</td>\n",
       "      <td>America great</td>\n",
       "      <td>again I'm</td>\n",
       "    </tr>\n",
       "    <tr>\n",
       "      <th>5</th>\n",
       "      <td>s to make</td>\n",
       "      <td>America great</td>\n",
       "      <td>again Wel</td>\n",
       "    </tr>\n",
       "    <tr>\n",
       "      <th>6</th>\n",
       "      <td>n to make</td>\n",
       "      <td>America great</td>\n",
       "      <td>again, I</td>\n",
       "    </tr>\n",
       "    <tr>\n",
       "      <th>7</th>\n",
       "      <td>g to make</td>\n",
       "      <td>America great</td>\n",
       "      <td>again We'</td>\n",
       "    </tr>\n",
       "    <tr>\n",
       "      <th>8</th>\n",
       "      <td>g to make</td>\n",
       "      <td>America great</td>\n",
       "      <td>again But</td>\n",
       "    </tr>\n",
       "    <tr>\n",
       "      <th>9</th>\n",
       "      <td>g to make</td>\n",
       "      <td>America great</td>\n",
       "      <td>again We'</td>\n",
       "    </tr>\n",
       "    <tr>\n",
       "      <th>10</th>\n",
       "      <td>g to make</td>\n",
       "      <td>America great</td>\n",
       "      <td>again We'</td>\n",
       "    </tr>\n",
       "    <tr>\n",
       "      <th>11</th>\n",
       "      <td>g to make</td>\n",
       "      <td>America great</td>\n",
       "      <td>again Tha</td>\n",
       "    </tr>\n",
       "    <tr>\n",
       "      <th>12</th>\n",
       "      <td>l we make</td>\n",
       "      <td>America great</td>\n",
       "      <td>again, an</td>\n",
       "    </tr>\n",
       "    <tr>\n",
       "      <th>13</th>\n",
       "      <td>will make</td>\n",
       "      <td>America great</td>\n",
       "      <td>again Tha</td>\n",
       "    </tr>\n",
       "    <tr>\n",
       "      <th>14</th>\n",
       "      <td>nnot make</td>\n",
       "      <td>America great</td>\n",
       "      <td>again if</td>\n",
       "    </tr>\n",
       "    <tr>\n",
       "      <th>15</th>\n",
       "      <td>will make</td>\n",
       "      <td>America great</td>\n",
       "      <td>again Tha</td>\n",
       "    </tr>\n",
       "    <tr>\n",
       "      <th>16</th>\n",
       "      <td>will make</td>\n",
       "      <td>America great</td>\n",
       "      <td>again God</td>\n",
       "    </tr>\n",
       "    <tr>\n",
       "      <th>17</th>\n",
       "      <td>will make</td>\n",
       "      <td>America great</td>\n",
       "      <td>again \" T</td>\n",
       "    </tr>\n",
       "    <tr>\n",
       "      <th>18</th>\n",
       "      <td>will make</td>\n",
       "      <td>America great</td>\n",
       "      <td>again Tha</td>\n",
       "    </tr>\n",
       "    <tr>\n",
       "      <th>19</th>\n",
       "      <td>a to make</td>\n",
       "      <td>America great</td>\n",
       "      <td>again Bel</td>\n",
       "    </tr>\n",
       "    <tr>\n",
       "      <th>20</th>\n",
       "      <td>g to make</td>\n",
       "      <td>America great</td>\n",
       "      <td>again Tha</td>\n",
       "    </tr>\n",
       "    <tr>\n",
       "      <th>21</th>\n",
       "      <td>will make</td>\n",
       "      <td>America great</td>\n",
       "      <td>again \" T</td>\n",
       "    </tr>\n",
       "    <tr>\n",
       "      <th>22</th>\n",
       "      <td>will make</td>\n",
       "      <td>America great</td>\n",
       "      <td>again Tha</td>\n",
       "    </tr>\n",
       "    <tr>\n",
       "      <th>23</th>\n",
       "      <td>will Make</td>\n",
       "      <td>America great</td>\n",
       "      <td>again Tha</td>\n",
       "    </tr>\n",
       "    <tr>\n",
       "      <th>24</th>\n",
       "      <td>t to make</td>\n",
       "      <td>America great</td>\n",
       "      <td>again We</td>\n",
       "    </tr>\n",
       "    <tr>\n",
       "      <th>25</th>\n",
       "      <td>t to make</td>\n",
       "      <td>America great</td>\n",
       "      <td>again I'm</td>\n",
       "    </tr>\n",
       "    <tr>\n",
       "      <th>26</th>\n",
       "      <td>will make</td>\n",
       "      <td>America great</td>\n",
       "      <td>again Tha</td>\n",
       "    </tr>\n",
       "    <tr>\n",
       "      <th>27</th>\n",
       "      <td>hat makes</td>\n",
       "      <td>America great</td>\n",
       "      <td>, because</td>\n",
       "    </tr>\n",
       "    <tr>\n",
       "      <th>28</th>\n",
       "      <td>will make</td>\n",
       "      <td>America great</td>\n",
       "      <td>again Tha</td>\n",
       "    </tr>\n",
       "    <tr>\n",
       "      <th>29</th>\n",
       "      <td>n he make</td>\n",
       "      <td>America great</td>\n",
       "      <td>again whe</td>\n",
       "    </tr>\n",
       "    <tr>\n",
       "      <th>30</th>\n",
       "      <td>g to make</td>\n",
       "      <td>America great</td>\n",
       "      <td>again \" T</td>\n",
       "    </tr>\n",
       "    <tr>\n",
       "      <th>31</th>\n",
       "      <td>g to make</td>\n",
       "      <td>America great</td>\n",
       "      <td>again \" T</td>\n",
       "    </tr>\n",
       "    <tr>\n",
       "      <th>32</th>\n",
       "      <td>g to make</td>\n",
       "      <td>America great</td>\n",
       "      <td>again \" W</td>\n",
       "    </tr>\n",
       "    <tr>\n",
       "      <th>33</th>\n",
       "      <td>s to make</td>\n",
       "      <td>America great</td>\n",
       "      <td>again Whe</td>\n",
       "    </tr>\n",
       "    <tr>\n",
       "      <th>34</th>\n",
       "      <td>lled make</td>\n",
       "      <td>America great</td>\n",
       "      <td>again No,</td>\n",
       "    </tr>\n",
       "    <tr>\n",
       "      <th>35</th>\n",
       "      <td>g to make</td>\n",
       "      <td>America great</td>\n",
       "      <td>again, bu</td>\n",
       "    </tr>\n",
       "    <tr>\n",
       "      <th>36</th>\n",
       "      <td>e to make</td>\n",
       "      <td>America great</td>\n",
       "      <td>We've got</td>\n",
       "    </tr>\n",
       "    <tr>\n",
       "      <th>37</th>\n",
       "      <td>g to make</td>\n",
       "      <td>America great</td>\n",
       "      <td>again \" \\</td>\n",
       "    </tr>\n",
       "    <tr>\n",
       "      <th>38</th>\n",
       "      <td>y to make</td>\n",
       "      <td>America great</td>\n",
       "      <td>again for</td>\n",
       "    </tr>\n",
       "    <tr>\n",
       "      <th>39</th>\n",
       "      <td>g to make</td>\n",
       "      <td>America great</td>\n",
       "      <td>again \" T</td>\n",
       "    </tr>\n",
       "    <tr>\n",
       "      <th>40</th>\n",
       "      <td>will make</td>\n",
       "      <td>America great</td>\n",
       "      <td>again \" T</td>\n",
       "    </tr>\n",
       "    <tr>\n",
       "      <th>41</th>\n",
       "      <td>g to make</td>\n",
       "      <td>America great</td>\n",
       "      <td>again \" T</td>\n",
       "    </tr>\n",
       "    <tr>\n",
       "      <th>42</th>\n",
       "      <td>g to make</td>\n",
       "      <td>America great</td>\n",
       "      <td>We have a</td>\n",
       "    </tr>\n",
       "    <tr>\n",
       "      <th>43</th>\n",
       "      <td>g to make</td>\n",
       "      <td>America great</td>\n",
       "      <td>again, an</td>\n",
       "    </tr>\n",
       "    <tr>\n",
       "      <th>44</th>\n",
       "      <td>s to make</td>\n",
       "      <td>America great</td>\n",
       "      <td>again, wh</td>\n",
       "    </tr>\n",
       "    <tr>\n",
       "      <th>45</th>\n",
       "      <td>s to make</td>\n",
       "      <td>America great</td>\n",
       "      <td>again, wh</td>\n",
       "    </tr>\n",
       "    <tr>\n",
       "      <th>46</th>\n",
       "      <td>hat makes</td>\n",
       "      <td>America great</td>\n",
       "      <td>Starting</td>\n",
       "    </tr>\n",
       "    <tr>\n",
       "      <th>47</th>\n",
       "      <td>ruly make</td>\n",
       "      <td>America great</td>\n",
       "      <td>again Tha</td>\n",
       "    </tr>\n",
       "    <tr>\n",
       "      <th>48</th>\n",
       "      <td>d to make</td>\n",
       "      <td>America great</td>\n",
       "      <td>again God</td>\n",
       "    </tr>\n",
       "  </tbody>\n",
       "</table>\n",
       "</div>"
      ],
      "text/plain": [
       "   Contexte gauche Expression trouvée Contexte droit\n",
       "0       ever make       America great      again The\n",
       "1       will make       America great      again Tha\n",
       "2       ways made       America great      And I bel\n",
       "3       d to make       America great      again I w\n",
       "4       g to make       America great      again I'm\n",
       "5       s to make       America great      again Wel\n",
       "6       n to make       America great      again, I \n",
       "7       g to make       America great      again We'\n",
       "8       g to make       America great      again But\n",
       "9       g to make       America great      again We'\n",
       "10      g to make       America great      again We'\n",
       "11      g to make       America great      again Tha\n",
       "12      l we make       America great      again, an\n",
       "13      will make       America great      again Tha\n",
       "14      nnot make       America great      again if \n",
       "15      will make       America great      again Tha\n",
       "16      will make       America great      again God\n",
       "17      will make       America great      again \" T\n",
       "18      will make       America great      again Tha\n",
       "19      a to make       America great      again Bel\n",
       "20      g to make       America great      again Tha\n",
       "21      will make       America great      again \" T\n",
       "22      will make       America great      again Tha\n",
       "23      will Make       America great      again Tha\n",
       "24      t to make       America great      again We \n",
       "25      t to make       America great      again I'm\n",
       "26      will make       America great      again Tha\n",
       "27      hat makes       America great     , because \n",
       "28      will make       America great      again Tha\n",
       "29      n he make       America great      again whe\n",
       "30      g to make       America great      again \" T\n",
       "31      g to make       America great      again \" T\n",
       "32      g to make       America great      again \" W\n",
       "33      s to make       America great      again Whe\n",
       "34      lled make       America great      again No,\n",
       "35      g to make       America great      again, bu\n",
       "36      e to make       America great      We've got\n",
       "37      g to make       America great      again \" \\\n",
       "38      y to make       America great      again for\n",
       "39      g to make       America great      again \" T\n",
       "40      will make       America great      again \" T\n",
       "41      g to make       America great      again \" T\n",
       "42      g to make       America great      We have a\n",
       "43      g to make       America great      again, an\n",
       "44      s to make       America great      again, wh\n",
       "45      s to make       America great      again, wh\n",
       "46      hat makes       America great      Starting \n",
       "47      ruly make       America great      again Tha\n",
       "48      d to make       America great      again God"
      ]
     },
     "execution_count": 9,
     "metadata": {},
     "output_type": "execute_result"
    }
   ],
   "source": [
    "discours.concorde(\"America great\", 10)"
   ]
  },
  {
   "cell_type": "markdown",
   "metadata": {},
   "source": [
    "## **Partie 02: Moteur de recherche**"
   ]
  },
  {
   "cell_type": "code",
   "execution_count": 10,
   "metadata": {},
   "outputs": [],
   "source": [
    "# Création d'une instance de la classe SearchEngine\n",
    "moteur=SearchEngine(discours)"
   ]
  },
  {
   "cell_type": "code",
   "execution_count": 11,
   "metadata": {},
   "outputs": [
    {
     "name": "stderr",
     "output_type": "stream",
     "text": [
      "Recherche des documents: 100%|██████████| 10/10 [00:00<00:00, 492.97it/s]\n"
     ]
    },
    {
     "data": {
      "text/html": [
       "<div>\n",
       "<style scoped>\n",
       "    .dataframe tbody tr th:only-of-type {\n",
       "        vertical-align: middle;\n",
       "    }\n",
       "\n",
       "    .dataframe tbody tr th {\n",
       "        vertical-align: top;\n",
       "    }\n",
       "\n",
       "    .dataframe thead th {\n",
       "        text-align: right;\n",
       "    }\n",
       "</style>\n",
       "<table border=\"1\" class=\"dataframe\">\n",
       "  <thead>\n",
       "    <tr style=\"text-align: right;\">\n",
       "      <th></th>\n",
       "      <th>titre</th>\n",
       "      <th>auteur</th>\n",
       "      <th>date</th>\n",
       "      <th>url</th>\n",
       "      <th>similarité</th>\n",
       "    </tr>\n",
       "  </thead>\n",
       "  <tbody>\n",
       "    <tr>\n",
       "      <th>0</th>\n",
       "      <td>Remarks in San Diego, California</td>\n",
       "      <td>CLINTON</td>\n",
       "      <td>June 2, 2016</td>\n",
       "      <td>http://www.presidency.ucsb.edu/ws/index.php?pi...</td>\n",
       "      <td>0.500000</td>\n",
       "    </tr>\n",
       "    <tr>\n",
       "      <th>1</th>\n",
       "      <td>Remarks on Obamacare in Valley Forge, Pennsylv...</td>\n",
       "      <td>TRUMP</td>\n",
       "      <td>November 1, 2016</td>\n",
       "      <td>http://www.presidency.ucsb.edu/ws/index.php?pi...</td>\n",
       "      <td>0.447214</td>\n",
       "    </tr>\n",
       "    <tr>\n",
       "      <th>2</th>\n",
       "      <td>Debate between Trump and Clinton</td>\n",
       "      <td>TRUMP</td>\n",
       "      <td>September 26, 2016</td>\n",
       "      <td>http://www.presidency.ucsb.edu/ws/index.php?pi...</td>\n",
       "      <td>0.447214</td>\n",
       "    </tr>\n",
       "    <tr>\n",
       "      <th>3</th>\n",
       "      <td>Remarks at a Rally at the University of North ...</td>\n",
       "      <td>TRUMP</td>\n",
       "      <td>August 9, 2016</td>\n",
       "      <td>http://www.presidency.ucsb.edu/ws/index.php?pi...</td>\n",
       "      <td>0.408248</td>\n",
       "    </tr>\n",
       "    <tr>\n",
       "      <th>4</th>\n",
       "      <td>Debate between Trump and Clinton</td>\n",
       "      <td>TRUMP</td>\n",
       "      <td>September 26, 2016</td>\n",
       "      <td>http://www.presidency.ucsb.edu/ws/index.php?pi...</td>\n",
       "      <td>0.408248</td>\n",
       "    </tr>\n",
       "    <tr>\n",
       "      <th>5</th>\n",
       "      <td>Remarks at the Cleveland Arts and Social Scien...</td>\n",
       "      <td>TRUMP</td>\n",
       "      <td>September 8, 2016</td>\n",
       "      <td>http://www.presidency.ucsb.edu/ws/index.php?pi...</td>\n",
       "      <td>0.408248</td>\n",
       "    </tr>\n",
       "    <tr>\n",
       "      <th>6</th>\n",
       "      <td>Remarks at McGlohon Theatre at Spirit Square i...</td>\n",
       "      <td>TRUMP</td>\n",
       "      <td>October 26, 2016</td>\n",
       "      <td>http://www.presidency.ucsb.edu/ws/index.php?pi...</td>\n",
       "      <td>0.400000</td>\n",
       "    </tr>\n",
       "    <tr>\n",
       "      <th>7</th>\n",
       "      <td>Debate between Trump and Clinton</td>\n",
       "      <td>CLINTON</td>\n",
       "      <td>October 09, 2016</td>\n",
       "      <td>http://www.presidency.ucsb.edu/ws/index.php?pi...</td>\n",
       "      <td>0.377964</td>\n",
       "    </tr>\n",
       "    <tr>\n",
       "      <th>8</th>\n",
       "      <td>Remarks at a Rally at the University of North ...</td>\n",
       "      <td>TRUMP</td>\n",
       "      <td>August 9, 2016</td>\n",
       "      <td>http://www.presidency.ucsb.edu/ws/index.php?pi...</td>\n",
       "      <td>0.377964</td>\n",
       "    </tr>\n",
       "    <tr>\n",
       "      <th>9</th>\n",
       "      <td>Remarks at the University of North Carolina in...</td>\n",
       "      <td>CLINTON</td>\n",
       "      <td>September 15, 2016</td>\n",
       "      <td>http://www.presidency.ucsb.edu/ws/index.php?pi...</td>\n",
       "      <td>0.377964</td>\n",
       "    </tr>\n",
       "  </tbody>\n",
       "</table>\n",
       "</div>"
      ],
      "text/plain": [
       "                                               titre   auteur  \\\n",
       "0                   Remarks in San Diego, California  CLINTON   \n",
       "1  Remarks on Obamacare in Valley Forge, Pennsylv...    TRUMP   \n",
       "2                   Debate between Trump and Clinton    TRUMP   \n",
       "3  Remarks at a Rally at the University of North ...    TRUMP   \n",
       "4                   Debate between Trump and Clinton    TRUMP   \n",
       "5  Remarks at the Cleveland Arts and Social Scien...    TRUMP   \n",
       "6  Remarks at McGlohon Theatre at Spirit Square i...    TRUMP   \n",
       "7                   Debate between Trump and Clinton  CLINTON   \n",
       "8  Remarks at a Rally at the University of North ...    TRUMP   \n",
       "9  Remarks at the University of North Carolina in...  CLINTON   \n",
       "\n",
       "                 date                                                url  \\\n",
       "0        June 2, 2016  http://www.presidency.ucsb.edu/ws/index.php?pi...   \n",
       "1    November 1, 2016  http://www.presidency.ucsb.edu/ws/index.php?pi...   \n",
       "2  September 26, 2016  http://www.presidency.ucsb.edu/ws/index.php?pi...   \n",
       "3      August 9, 2016  http://www.presidency.ucsb.edu/ws/index.php?pi...   \n",
       "4  September 26, 2016  http://www.presidency.ucsb.edu/ws/index.php?pi...   \n",
       "5   September 8, 2016  http://www.presidency.ucsb.edu/ws/index.php?pi...   \n",
       "6    October 26, 2016  http://www.presidency.ucsb.edu/ws/index.php?pi...   \n",
       "7    October 09, 2016  http://www.presidency.ucsb.edu/ws/index.php?pi...   \n",
       "8      August 9, 2016  http://www.presidency.ucsb.edu/ws/index.php?pi...   \n",
       "9  September 15, 2016  http://www.presidency.ucsb.edu/ws/index.php?pi...   \n",
       "\n",
       "   similarité  \n",
       "0    0.500000  \n",
       "1    0.447214  \n",
       "2    0.447214  \n",
       "3    0.408248  \n",
       "4    0.408248  \n",
       "5    0.408248  \n",
       "6    0.400000  \n",
       "7    0.377964  \n",
       "8    0.377964  \n",
       "9    0.377964  "
      ]
     },
     "execution_count": 11,
     "metadata": {},
     "output_type": "execute_result"
    }
   ],
   "source": [
    "# Test de la méthode search\n",
    "moteur.search(\"war\", 10)"
   ]
  },
  {
   "cell_type": "code",
   "execution_count": 12,
   "metadata": {},
   "outputs": [
    {
     "name": "stderr",
     "output_type": "stream",
     "text": [
      "Recherche des documents: 100%|██████████| 10/10 [00:00<00:00, 449.62it/s]\n"
     ]
    },
    {
     "data": {
      "text/html": [
       "<div>\n",
       "<style scoped>\n",
       "    .dataframe tbody tr th:only-of-type {\n",
       "        vertical-align: middle;\n",
       "    }\n",
       "\n",
       "    .dataframe tbody tr th {\n",
       "        vertical-align: top;\n",
       "    }\n",
       "\n",
       "    .dataframe thead th {\n",
       "        text-align: right;\n",
       "    }\n",
       "</style>\n",
       "<table border=\"1\" class=\"dataframe\">\n",
       "  <thead>\n",
       "    <tr style=\"text-align: right;\">\n",
       "      <th></th>\n",
       "      <th>titre</th>\n",
       "      <th>auteur</th>\n",
       "      <th>date</th>\n",
       "      <th>url</th>\n",
       "      <th>similarité</th>\n",
       "    </tr>\n",
       "  </thead>\n",
       "  <tbody>\n",
       "    <tr>\n",
       "      <th>0</th>\n",
       "      <td>Remarks to the American Legion in Cincinnati, ...</td>\n",
       "      <td>TRUMP</td>\n",
       "      <td>September 1, 2016</td>\n",
       "      <td>http://www.presidency.ucsb.edu/ws/index.php?pi...</td>\n",
       "      <td>0.707107</td>\n",
       "    </tr>\n",
       "    <tr>\n",
       "      <th>1</th>\n",
       "      <td>Remarks at a Rally at the James L. Knight Cent...</td>\n",
       "      <td>TRUMP</td>\n",
       "      <td>September 16, 2016</td>\n",
       "      <td>http://www.presidency.ucsb.edu/ws/index.php?pi...</td>\n",
       "      <td>0.707107</td>\n",
       "    </tr>\n",
       "    <tr>\n",
       "      <th>2</th>\n",
       "      <td>Remarks to the Economic Club of New York at th...</td>\n",
       "      <td>TRUMP</td>\n",
       "      <td>September 15, 2016</td>\n",
       "      <td>http://www.presidency.ucsb.edu/ws/index.php?pi...</td>\n",
       "      <td>0.707107</td>\n",
       "    </tr>\n",
       "    <tr>\n",
       "      <th>3</th>\n",
       "      <td>Remarks at the US Cellular Center in Asheville...</td>\n",
       "      <td>TRUMP</td>\n",
       "      <td>September 12, 2016</td>\n",
       "      <td>http://www.presidency.ucsb.edu/ws/index.php?pi...</td>\n",
       "      <td>0.707107</td>\n",
       "    </tr>\n",
       "    <tr>\n",
       "      <th>4</th>\n",
       "      <td>Remarks at Seven Flags Event Center in Des Moi...</td>\n",
       "      <td>TRUMP</td>\n",
       "      <td>September 13, 2016</td>\n",
       "      <td>http://www.presidency.ucsb.edu/ws/index.php?pi...</td>\n",
       "      <td>0.707107</td>\n",
       "    </tr>\n",
       "    <tr>\n",
       "      <th>5</th>\n",
       "      <td>Remarks at a Rally at the Greenville Conventio...</td>\n",
       "      <td>TRUMP</td>\n",
       "      <td>September 6, 2016</td>\n",
       "      <td>http://www.presidency.ucsb.edu/ws/index.php?pi...</td>\n",
       "      <td>0.707107</td>\n",
       "    </tr>\n",
       "    <tr>\n",
       "      <th>6</th>\n",
       "      <td>Remarks at a Rally at Canton Memorial Civic Ce...</td>\n",
       "      <td>TRUMP</td>\n",
       "      <td>September 14, 2016</td>\n",
       "      <td>http://www.presidency.ucsb.edu/ws/index.php?pi...</td>\n",
       "      <td>0.707107</td>\n",
       "    </tr>\n",
       "    <tr>\n",
       "      <th>7</th>\n",
       "      <td>Remarks at Trump SoHo in New York City</td>\n",
       "      <td>TRUMP</td>\n",
       "      <td>June 22, 2016</td>\n",
       "      <td>http://www.presidency.ucsb.edu/ws/index.php?pi...</td>\n",
       "      <td>0.700140</td>\n",
       "    </tr>\n",
       "    <tr>\n",
       "      <th>8</th>\n",
       "      <td>Remarks at the XFinity Arena in Everett, Washi...</td>\n",
       "      <td>TRUMP</td>\n",
       "      <td>August 30, 2016</td>\n",
       "      <td>http://www.presidency.ucsb.edu/ws/index.php?pi...</td>\n",
       "      <td>0.654654</td>\n",
       "    </tr>\n",
       "    <tr>\n",
       "      <th>9</th>\n",
       "      <td>Debate between Trump and Clinton</td>\n",
       "      <td>TRUMP</td>\n",
       "      <td>September 26, 2016</td>\n",
       "      <td>http://www.presidency.ucsb.edu/ws/index.php?pi...</td>\n",
       "      <td>0.654654</td>\n",
       "    </tr>\n",
       "  </tbody>\n",
       "</table>\n",
       "</div>"
      ],
      "text/plain": [
       "                                               titre auteur  \\\n",
       "0  Remarks to the American Legion in Cincinnati, ...  TRUMP   \n",
       "1  Remarks at a Rally at the James L. Knight Cent...  TRUMP   \n",
       "2  Remarks to the Economic Club of New York at th...  TRUMP   \n",
       "3  Remarks at the US Cellular Center in Asheville...  TRUMP   \n",
       "4  Remarks at Seven Flags Event Center in Des Moi...  TRUMP   \n",
       "5  Remarks at a Rally at the Greenville Conventio...  TRUMP   \n",
       "6  Remarks at a Rally at Canton Memorial Civic Ce...  TRUMP   \n",
       "7             Remarks at Trump SoHo in New York City  TRUMP   \n",
       "8  Remarks at the XFinity Arena in Everett, Washi...  TRUMP   \n",
       "9                   Debate between Trump and Clinton  TRUMP   \n",
       "\n",
       "                 date                                                url  \\\n",
       "0   September 1, 2016  http://www.presidency.ucsb.edu/ws/index.php?pi...   \n",
       "1  September 16, 2016  http://www.presidency.ucsb.edu/ws/index.php?pi...   \n",
       "2  September 15, 2016  http://www.presidency.ucsb.edu/ws/index.php?pi...   \n",
       "3  September 12, 2016  http://www.presidency.ucsb.edu/ws/index.php?pi...   \n",
       "4  September 13, 2016  http://www.presidency.ucsb.edu/ws/index.php?pi...   \n",
       "5   September 6, 2016  http://www.presidency.ucsb.edu/ws/index.php?pi...   \n",
       "6  September 14, 2016  http://www.presidency.ucsb.edu/ws/index.php?pi...   \n",
       "7       June 22, 2016  http://www.presidency.ucsb.edu/ws/index.php?pi...   \n",
       "8     August 30, 2016  http://www.presidency.ucsb.edu/ws/index.php?pi...   \n",
       "9  September 26, 2016  http://www.presidency.ucsb.edu/ws/index.php?pi...   \n",
       "\n",
       "   similarité  \n",
       "0    0.707107  \n",
       "1    0.707107  \n",
       "2    0.707107  \n",
       "3    0.707107  \n",
       "4    0.707107  \n",
       "5    0.707107  \n",
       "6    0.707107  \n",
       "7    0.700140  \n",
       "8    0.654654  \n",
       "9    0.654654  "
      ]
     },
     "execution_count": 12,
     "metadata": {},
     "output_type": "execute_result"
    }
   ],
   "source": [
    "moteur.search(\"America great again\",10)"
   ]
  },
  {
   "cell_type": "markdown",
   "metadata": {},
   "source": [
    "### **Partie 03: Interface graphique**"
   ]
  },
  {
   "cell_type": "code",
   "execution_count": 13,
   "metadata": {},
   "outputs": [
    {
     "data": {
      "application/vnd.jupyter.widget-view+json": {
       "model_id": "10da68fa623241e880e39782d6d480ee",
       "version_major": 2,
       "version_minor": 0
      },
      "text/plain": [
       "VBox(children=(HBox(children=(Label(value='Moteur de recherche', layout=Layout(width='auto')),), layout=Layout…"
      ]
     },
     "metadata": {},
     "output_type": "display_data"
    },
    {
     "name": "stdout",
     "output_type": "stream",
     "text": [
      "Button clicked: Button(description='Rechercher', layout=Layout(width='auto'), style=ButtonStyle())\n"
     ]
    },
    {
     "name": "stderr",
     "output_type": "stream",
     "text": [
      "Recherche des documents: 100%|██████████| 7/7 [00:00<00:00, 353.57it/s]\n"
     ]
    },
    {
     "data": {
      "text/html": [
       "<h3>Résultats de la recherche :</h3>"
      ],
      "text/plain": [
       "<IPython.core.display.HTML object>"
      ]
     },
     "metadata": {},
     "output_type": "display_data"
    },
    {
     "data": {
      "text/html": [
       "<p><b>Titre :</b> Remarks in San Diego, California<br><b>Auteur :</b> CLINTON<br><b>Date :</b> June 2, 2016<br><b>URL :</b> <a href='http://www.presidency.ucsb.edu/ws/index.php?pid=119295'>http://www.presidency.ucsb.edu/ws/index.php?pid=119295</a></p>"
      ],
      "text/plain": [
       "<IPython.core.display.HTML object>"
      ]
     },
     "metadata": {},
     "output_type": "display_data"
    },
    {
     "data": {
      "text/html": [
       "<p><b>Titre :</b> Remarks on Obamacare in Valley Forge, Pennsylvania<br><b>Auteur :</b> TRUMP<br><b>Date :</b> November 1, 2016<br><b>URL :</b> <a href='http://www.presidency.ucsb.edu/ws/index.php?pid=122535'>http://www.presidency.ucsb.edu/ws/index.php?pid=122535</a></p>"
      ],
      "text/plain": [
       "<IPython.core.display.HTML object>"
      ]
     },
     "metadata": {},
     "output_type": "display_data"
    },
    {
     "data": {
      "text/html": [
       "<p><b>Titre :</b> Debate between Trump and Clinton<br><b>Auteur :</b> TRUMP<br><b>Date :</b> September 26, 2016<br><b>URL :</b> <a href='http://www.presidency.ucsb.edu/ws/index.php?pid=118971'>http://www.presidency.ucsb.edu/ws/index.php?pid=118971</a></p>"
      ],
      "text/plain": [
       "<IPython.core.display.HTML object>"
      ]
     },
     "metadata": {},
     "output_type": "display_data"
    },
    {
     "data": {
      "text/html": [
       "<p><b>Titre :</b> Remarks at a Rally at the University of North Carolina in Wilmington<br><b>Auteur :</b> TRUMP<br><b>Date :</b> August 9, 2016<br><b>URL :</b> <a href='http://www.presidency.ucsb.edu/ws/index.php?pid=122534'>http://www.presidency.ucsb.edu/ws/index.php?pid=122534</a></p>"
      ],
      "text/plain": [
       "<IPython.core.display.HTML object>"
      ]
     },
     "metadata": {},
     "output_type": "display_data"
    },
    {
     "data": {
      "text/html": [
       "<p><b>Titre :</b> Debate between Trump and Clinton<br><b>Auteur :</b> TRUMP<br><b>Date :</b> September 26, 2016<br><b>URL :</b> <a href='http://www.presidency.ucsb.edu/ws/index.php?pid=118971'>http://www.presidency.ucsb.edu/ws/index.php?pid=118971</a></p>"
      ],
      "text/plain": [
       "<IPython.core.display.HTML object>"
      ]
     },
     "metadata": {},
     "output_type": "display_data"
    },
    {
     "data": {
      "text/html": [
       "<p><b>Titre :</b> Remarks at the Cleveland Arts and Social Sciences Academy in Cleveland, Ohio<br><b>Auteur :</b> TRUMP<br><b>Date :</b> September 8, 2016<br><b>URL :</b> <a href='http://www.presidency.ucsb.edu/ws/index.php?pid=119195'>http://www.presidency.ucsb.edu/ws/index.php?pid=119195</a></p>"
      ],
      "text/plain": [
       "<IPython.core.display.HTML object>"
      ]
     },
     "metadata": {},
     "output_type": "display_data"
    },
    {
     "data": {
      "text/html": [
       "<p><b>Titre :</b> Remarks at McGlohon Theatre at Spirit Square in Charlotte, North Carolina<br><b>Auteur :</b> TRUMP<br><b>Date :</b> October 26, 2016<br><b>URL :</b> <a href='http://www.presidency.ucsb.edu/ws/index.php?pid=119188'>http://www.presidency.ucsb.edu/ws/index.php?pid=119188</a></p>"
      ],
      "text/plain": [
       "<IPython.core.display.HTML object>"
      ]
     },
     "metadata": {},
     "output_type": "display_data"
    }
   ],
   "source": [
    "#Création des objets graphiques simples: Label, Text, et IntSlider\n",
    "import ipywidgets as widgets\n",
    "from ipywidgets import Layout\n",
    "from IPython.display import display, HTML\n",
    "\n",
    "\n",
    "#Création du Label qui affichera le titre qui est \"Moteur de recherche\"\n",
    "label = widgets.Label(value=\"Moteur de recherche\", layout=Layout(width='auto'))\n",
    "\n",
    "# Utilisation de HBox pour centrer le Label\n",
    "centered_label = widgets.HBox([label], layout=Layout(justify_content='center'))\n",
    "\n",
    "#Création du Text qui permettra à l'utilisateur de saisir les mots clés à rechercher\n",
    "text = widgets.Text(\n",
    "    value='',\n",
    "    placeholder='Saisir les mots clés',\n",
    "    description='Mots clés:',\n",
    "    disabled=False\n",
    ")\n",
    "\n",
    "centraled_text = widgets.HBox([text], layout=Layout(justify_content='center'))\n",
    "\n",
    "#Création du IntSlider qui permettra à l'utilisateur de choisir le nombre de résultats à afficher\n",
    "slider = widgets.IntSlider(\n",
    "    value=7,\n",
    "    min=1,\n",
    "    max=10,\n",
    "    step=1,\n",
    "    description='Nombre d articles à extraire:',\n",
    "    disabled=False,\n",
    "    continuous_update=False,\n",
    "    orientation='horizontal',\n",
    "    readout=True,\n",
    "    readout_format='d',\n",
    "    layout=Layout(width='50%')\n",
    ")\n",
    "\n",
    "\n",
    "slider.style.description_width = 'initial'\n",
    "\n",
    "centraled_slider = widgets.HBox([slider], layout=Layout(justify_content='center'))\n",
    "\n",
    "\n",
    "#Création du buton de recherche qui va permettre de lancer la recherche\n",
    "button = widgets.Button(description=\"Rechercher\", layout=Layout(width='auto'))\n",
    "\n",
    "cenraled_button = widgets.HBox([button], layout=Layout(justify_content='center'))\n",
    "\n",
    "\n",
    "def on_button_clicked(b):\n",
    "    # Access the variable b\n",
    "    print(f\"Button clicked: {b}\")\n",
    "    \n",
    "    # Récupérer les mots clés et le nombre de résultats à afficher\n",
    "    keywords = text.value\n",
    "    num_results = slider.value\n",
    "    # Effectuer la recherche\n",
    "    results = moteur.search(keywords, num_results)\n",
    "    \n",
    "    # Afficher les résultats\n",
    "    display(HTML(\"<h3>Résultats de la recherche :</h3>\"))\n",
    "    for index, result in results.iterrows():\n",
    "        display(HTML(f\"<p><b>Titre :</b> {result['titre']}<br>\"\n",
    "                     f\"<b>Auteur :</b> {result['auteur']}<br>\"\n",
    "                     f\"<b>Date :</b> {result['date']}<br>\"\n",
    "                     f\"<b>URL :</b> <a href='{result['url']}'>{result['url']}</a></p>\"))\n",
    "\n",
    "# Associer la fonction au bouton\n",
    "button.on_click(on_button_clicked)\n",
    "\n",
    "# Afficher l'interface graphique\n",
    "display(widgets.VBox([centered_label, centraled_text, centraled_slider, cenraled_button]))\n"
   ]
  }
 ],
 "metadata": {
  "kernelspec": {
   "display_name": "base",
   "language": "python",
   "name": "python3"
  },
  "language_info": {
   "codemirror_mode": {
    "name": "ipython",
    "version": 3
   },
   "file_extension": ".py",
   "mimetype": "text/x-python",
   "name": "python",
   "nbconvert_exporter": "python",
   "pygments_lexer": "ipython3",
   "version": "3.11.7"
  }
 },
 "nbformat": 4,
 "nbformat_minor": 2
}
